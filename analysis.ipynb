{
 "cells": [
  {
   "cell_type": "markdown",
   "id": "3de64f03",
   "metadata": {},
   "source": [
    "# 📊 Análisis de Tiendas - Alura Store"
   ]
  },
  {
   "cell_type": "code",
   "execution_count": null,
   "id": "73e10973",
   "metadata": {},
   "outputs": [],
   "source": [
    "import pandas as pd\n",
    "import matplotlib.pyplot as plt\n",
    "import os\n",
    "\n",
    "# Cargar archivos\n",
    "data_path = \"data\"\n",
    "files = [f\"store{i}.csv\" for i in range(1, 5)]\n",
    "tiendas = {f\"store{i}\": pd.read_csv(os.path.join(data_path, f)) for i, f in enumerate(files, 1)}\n"
   ]
  },
  {
   "cell_type": "markdown",
   "id": "e6efb691",
   "metadata": {},
   "source": [
    "## 💰 Ingreso total por tienda"
   ]
  },
  {
   "cell_type": "code",
   "execution_count": null,
   "id": "6646909b",
   "metadata": {},
   "outputs": [],
   "source": [
    "total_income = {name: df['Precio'].sum() for name, df in tiendas.items()}\n",
    "pd.Series(total_income).plot(kind='bar', title='Ingreso Total por Tienda')\n",
    "plt.ylabel('Ingresos ($)')\n",
    "plt.tight_layout()\n",
    "plt.savefig('visuals/ingresos_por_tienda.png')\n",
    "plt.show()"
   ]
  },
  {
   "cell_type": "markdown",
   "id": "31365842",
   "metadata": {},
   "source": [
    "## 📦 Ventas por Categoría"
   ]
  },
  {
   "cell_type": "code",
   "execution_count": null,
   "id": "40e31727",
   "metadata": {},
   "outputs": [],
   "source": [
    "for name, df in tiendas.items():\n",
    "    category_counts = df['Categoría del Producto'].value_counts()\n",
    "    category_counts.plot(kind='bar', title=f'Ventas por Categoría - {name}')\n",
    "    plt.ylabel('Cantidad de ventas')\n",
    "    plt.tight_layout()\n",
    "    plt.savefig(f'visuals/ventas_categoria_{name}.png')\n",
    "    plt.show()"
   ]
  },
  {
   "cell_type": "markdown",
   "id": "1c171209",
   "metadata": {},
   "source": [
    "## 🔝 Productos más y menos vendidos"
   ]
  },
  {
   "cell_type": "code",
   "execution_count": null,
   "id": "65cc50e6",
   "metadata": {},
   "outputs": [],
   "source": [
    "for name, df in tiendas.items():\n",
    "    product_counts = df['Producto'].value_counts()\n",
    "    top = product_counts.head(5)\n",
    "    bottom = product_counts.tail(5)\n",
    "    fig, axs = plt.subplots(1, 2, figsize=(12,4))\n",
    "    top.plot(kind='bar', ax=axs[0], title='Top 5 más vendidos')\n",
    "    bottom.plot(kind='bar', ax=axs[1], title='Top 5 menos vendidos')\n",
    "    plt.suptitle(f'Productos Destacados - {name}')\n",
    "    plt.tight_layout()\n",
    "    plt.savefig(f'visuals/productos_destacados_{name}.png')\n",
    "    plt.show()"
   ]
  },
  {
   "cell_type": "markdown",
   "id": "880ebcfe",
   "metadata": {},
   "source": [
    "## 🚚 Costo de envío promedio"
   ]
  },
  {
   "cell_type": "code",
   "execution_count": null,
   "id": "e47fa60f",
   "metadata": {},
   "outputs": [],
   "source": [
    "avg_shipping = {name: df['Costo de envío'].mean() for name, df in tiendas.items()}\n",
    "pd.Series(avg_shipping).plot(kind='bar', title='Costo de Envío Promedio por Tienda', color='orange')\n",
    "plt.ylabel('Costo Promedio ($)')\n",
    "plt.tight_layout()\n",
    "plt.savefig('visuals/envio_promedio.png')\n",
    "plt.show()"
   ]
  }
 ],
 "metadata": {},
 "nbformat": 4,
 "nbformat_minor": 5
}
